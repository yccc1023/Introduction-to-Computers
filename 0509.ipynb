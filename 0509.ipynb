{
  "nbformat": 4,
  "nbformat_minor": 0,
  "metadata": {
    "colab": {
      "name": "0509.ipynb",
      "provenance": [],
      "authorship_tag": "ABX9TyMJ5nxldkh684bkuTDMWa4F",
      "include_colab_link": true
    },
    "kernelspec": {
      "name": "python3",
      "display_name": "Python 3"
    },
    "language_info": {
      "name": "python"
    }
  },
  "cells": [
    {
      "cell_type": "markdown",
      "metadata": {
        "id": "view-in-github",
        "colab_type": "text"
      },
      "source": [
        "<a href=\"https://colab.research.google.com/github/yccc1023/Introduction-to-Computers/blob/main/0509.ipynb\" target=\"_parent\"><img src=\"https://colab.research.google.com/assets/colab-badge.svg\" alt=\"Open In Colab\"/></a>"
      ]
    },
    {
      "cell_type": "code",
      "source": [
        "t = float(input(\"請輸入您的體溫\"))\n",
        "\n",
        "if t >=37.5:\n",
        "  print(\"體溫過高!\")\n",
        "elif t>=37 and t<37.5:\n",
        "  print(\"體溫略高!\")\n",
        "elif t>=34 and t<=36.9:\n",
        "  print(\"體溫正常!\")\n",
        "else:\n",
        "  print(\"體溫異常，請重新量測!\")"
      ],
      "metadata": {
        "colab": {
          "base_uri": "https://localhost:8080/"
        },
        "id": "9c0p1_Fp8GJU",
        "outputId": "93694a44-52f9-4d4b-f589-43222d4a6f8a"
      },
      "execution_count": 7,
      "outputs": [
        {
          "output_type": "stream",
          "name": "stdout",
          "text": [
            "請輸入您的體溫37.4\n",
            "體溫略高!\n"
          ]
        }
      ]
    },
    {
      "cell_type": "code",
      "source": [
        "g = int(input(\"請輸入您的成績\"))\n",
        "\n",
        "if g>=90:\n",
        "  print(\"A\")\n",
        "elif g>=80 and t<90:\n",
        "  print(\"B\")\n",
        "elif g>=70 and t<80:\n",
        "  print(\"C\")\n",
        "elif g>=60 and t<70:\n",
        "  print(\"D\")\n",
        "else:\n",
        "  print(\"E\")"
      ],
      "metadata": {
        "colab": {
          "base_uri": "https://localhost:8080/"
        },
        "id": "6uaCqcZJ8GMK",
        "outputId": "cb52a2d9-8756-4e1f-94e0-a63cddd7fc55"
      },
      "execution_count": 16,
      "outputs": [
        {
          "output_type": "stream",
          "name": "stdout",
          "text": [
            "請輸入您的成績70\n",
            "C\n"
          ]
        }
      ]
    },
    {
      "cell_type": "code",
      "source": [
        "m = int(input(\"請輸入購物金額:\"))\n",
        "\n",
        "if(m>=10000):\n",
        "  if(m>=100000):\n",
        "    print(\"八折\",m*0.8,end =\"元\\n\")\n",
        "  elif(m>=50000):\n",
        "    print(\"八五折\",m*0.85,end =\"元\\n\")\n",
        "  elif(m >=30000):\n",
        "    print(\"九折\",m*0.9,end =\"元\\n\")\n",
        "  else:\n",
        "    print(\"九五折\",m*0.95,end =\"元\\n\")\n",
        "else:\n",
        "  print(\"不打折\",m,end =\"元\\n\")"
      ],
      "metadata": {
        "colab": {
          "base_uri": "https://localhost:8080/"
        },
        "id": "7qXlMCF28GPb",
        "outputId": "a2077350-702f-42b4-9a5b-1ccbe1a3bcb1"
      },
      "execution_count": 35,
      "outputs": [
        {
          "output_type": "stream",
          "name": "stdout",
          "text": [
            "請輸入購物金額:15000\n",
            "九五折 14250.0元\n"
          ]
        }
      ]
    },
    {
      "cell_type": "code",
      "source": [
        "month = int(input(\"請輸入月份:\"))\n",
        "\n",
        "if(month>=3 and month<=5):\n",
        "  print(month,\"月是春天!\")\n",
        "elif(month>=6 and month<=8):\n",
        "  print(month,\"月是夏天!\")\n",
        "elif(month>=9 and month<=11):\n",
        "  print(month,\"月是秋天!\")\n",
        "elif(month==12 or month==1 or month==2):\n",
        "  print(month,\"月是冬天!\")\n",
        "else:\n",
        "  print(\"月份不再範圍內!\")"
      ],
      "metadata": {
        "colab": {
          "base_uri": "https://localhost:8080/"
        },
        "id": "sozxaScy8GSa",
        "outputId": "930507b0-4a61-407d-e265-68f314cea7d2"
      },
      "execution_count": 49,
      "outputs": [
        {
          "output_type": "stream",
          "name": "stdout",
          "text": [
            "請輸入月份:12\n",
            "12 月是冬天!\n"
          ]
        }
      ]
    },
    {
      "cell_type": "code",
      "source": [
        "ni = int(input(\"請輸入今年收入淨額:\"))\n",
        "\n",
        "if(ni>=2000000):\n",
        "  print(\"付稅金額:\",ni*0.3,end=\"元\\n\")\n",
        "elif(ni>=1000000):\n",
        "  print(\"付稅金額:\",ni*0.21,end=\"元\\n\")\n",
        "elif(ni>=600000):\n",
        "  print(\"付稅金額:\",ni*0.13,end=\"元\\n\")\n",
        "elif(ni>=300000):\n",
        "  print(\"付稅金額:\",ni*0.06,end=\"元\\n\")\n",
        "else:\n",
        "  print(\"付稅金額:\",ni*0,end=\"元\\n\")"
      ],
      "metadata": {
        "colab": {
          "base_uri": "https://localhost:8080/"
        },
        "id": "sS55We9c8GVU",
        "outputId": "0bfc1d39-6a1e-4d31-f877-eb0d1817b534"
      },
      "execution_count": 55,
      "outputs": [
        {
          "output_type": "stream",
          "name": "stdout",
          "text": [
            "請輸入今年收入淨額:300000\n",
            "付稅金額: 18000.0元\n"
          ]
        }
      ]
    },
    {
      "cell_type": "code",
      "source": [
        ""
      ],
      "metadata": {
        "id": "H7sJ_eZx8GYa"
      },
      "execution_count": null,
      "outputs": []
    },
    {
      "cell_type": "code",
      "source": [
        ""
      ],
      "metadata": {
        "id": "MgX8GjHI8Gbb"
      },
      "execution_count": null,
      "outputs": []
    },
    {
      "cell_type": "code",
      "source": [
        ""
      ],
      "metadata": {
        "id": "mMB7c13r8GeL"
      },
      "execution_count": null,
      "outputs": []
    }
  ]
}