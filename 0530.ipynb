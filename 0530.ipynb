{
  "nbformat": 4,
  "nbformat_minor": 0,
  "metadata": {
    "colab": {
      "name": "0530.ipynb",
      "provenance": [],
      "authorship_tag": "ABX9TyNFf9LX1MVc4u1iF1ehdFbp",
      "include_colab_link": true
    },
    "kernelspec": {
      "name": "python3",
      "display_name": "Python 3"
    },
    "language_info": {
      "name": "python"
    }
  },
  "cells": [
    {
      "cell_type": "markdown",
      "metadata": {
        "id": "view-in-github",
        "colab_type": "text"
      },
      "source": [
        "<a href=\"https://colab.research.google.com/github/yccc1023/Introduction-to-Computers/blob/main/0530.ipynb\" target=\"_parent\"><img src=\"https://colab.research.google.com/assets/colab-badge.svg\" alt=\"Open In Colab\"/></a>"
      ]
    },
    {
      "cell_type": "code",
      "execution_count": 6,
      "metadata": {
        "colab": {
          "base_uri": "https://localhost:8080/"
        },
        "id": "pBowRAufBboX",
        "outputId": "9491163c-af71-450b-9228-b7f2adb289b8"
      },
      "outputs": [
        {
          "output_type": "stream",
          "name": "stdout",
          "text": [
            "0530\n"
          ]
        }
      ],
      "source": [
        "print(\"0530\")"
      ]
    },
    {
      "cell_type": "code",
      "source": [
        "for i in range(2,10):\n",
        "  for j in range(1,10):\n",
        "    product = j * i\n",
        "    print(\"%d*%d=%2d\" %(i,j,product),end=\" \")\n",
        "  print()"
      ],
      "metadata": {
        "colab": {
          "base_uri": "https://localhost:8080/"
        },
        "id": "HahOKYjYBfmm",
        "outputId": "716fe5d0-c035-40b7-c8ae-badd5f10a489"
      },
      "execution_count": 4,
      "outputs": [
        {
          "output_type": "stream",
          "name": "stdout",
          "text": [
            "2*1= 2 2*2= 4 2*3= 6 2*4= 8 2*5=10 2*6=12 2*7=14 2*8=16 2*9=18 \n",
            "3*1= 3 3*2= 6 3*3= 9 3*4=12 3*5=15 3*6=18 3*7=21 3*8=24 3*9=27 \n",
            "4*1= 4 4*2= 8 4*3=12 4*4=16 4*5=20 4*6=24 4*7=28 4*8=32 4*9=36 \n",
            "5*1= 5 5*2=10 5*3=15 5*4=20 5*5=25 5*6=30 5*7=35 5*8=40 5*9=45 \n",
            "6*1= 6 6*2=12 6*3=18 6*4=24 6*5=30 6*6=36 6*7=42 6*8=48 6*9=54 \n",
            "7*1= 7 7*2=14 7*3=21 7*4=28 7*5=35 7*6=42 7*7=49 7*8=56 7*9=63 \n",
            "8*1= 8 8*2=16 8*3=24 8*4=32 8*5=40 8*6=48 8*7=56 8*8=64 8*9=72 \n",
            "9*1= 9 9*2=18 9*3=27 9*4=36 9*5=45 9*6=54 9*7=63 9*8=72 9*9=81 \n"
          ]
        }
      ]
    },
    {
      "cell_type": "code",
      "source": [
        "a = int(input(\"請輸入a的值:\"))\n",
        "b = int(input(\"請輸入b的值:\"))\n",
        "\n",
        "maxno = a * b\n",
        "for i in range(1,maxno+1):\n",
        "  if (i%a==0 and i%b==0):\n",
        "    break\n",
        "print(\"%d和%d的最小公倍數=%d\" %(a,b,i))"
      ],
      "metadata": {
        "colab": {
          "base_uri": "https://localhost:8080/"
        },
        "id": "8MTqGm2JBfpt",
        "outputId": "b67f940e-1496-4f70-b10a-065d048593e0"
      },
      "execution_count": 9,
      "outputs": [
        {
          "output_type": "stream",
          "name": "stdout",
          "text": [
            "請輸入a的值:4\n",
            "請輸入b的值:5\n",
            "4和5的最小公倍數=20\n"
          ]
        }
      ]
    },
    {
      "cell_type": "code",
      "source": [
        "n = int(input(\"請輸入正整數:\"))\n",
        "\n",
        "for i in range(1,n+1):\n",
        "  if (i%5==0):\n",
        "    continue\n",
        "  print(i,end=\" \")"
      ],
      "metadata": {
        "colab": {
          "base_uri": "https://localhost:8080/"
        },
        "id": "VtDmg249BfsZ",
        "outputId": "a6896f06-1716-4a9e-9306-949742e5ca00"
      },
      "execution_count": 11,
      "outputs": [
        {
          "output_type": "stream",
          "name": "stdout",
          "text": [
            "請輸入正整數:21\n",
            "1 2 3 4 6 7 8 9 11 12 13 14 16 17 18 19 21 "
          ]
        }
      ]
    },
    {
      "cell_type": "markdown",
      "source": [
        "while"
      ],
      "metadata": {
        "id": "uGC78UkFISPd"
      }
    },
    {
      "cell_type": "code",
      "source": [
        "total = n = 0\n",
        "while(n<= 10):\n",
        "  total += n\n",
        "  n +=1\n",
        "print(total) "
      ],
      "metadata": {
        "colab": {
          "base_uri": "https://localhost:8080/"
        },
        "id": "hiiEBpiUBfwO",
        "outputId": "e4a17523-75e8-4461-f597-93e4116893aa"
      },
      "execution_count": 14,
      "outputs": [
        {
          "output_type": "stream",
          "name": "stdout",
          "text": [
            "55\n"
          ]
        }
      ]
    },
    {
      "cell_type": "code",
      "source": [
        "total = n = 0\n",
        "while n<= 10:\n",
        "  total += n\n",
        "  n +=1\n",
        "print(total) "
      ],
      "metadata": {
        "colab": {
          "base_uri": "https://localhost:8080/"
        },
        "id": "Mm6T_VbsBfzS",
        "outputId": "6d37fb41-6008-4376-af6c-91477fb72a54"
      },
      "execution_count": 15,
      "outputs": [
        {
          "output_type": "stream",
          "name": "stdout",
          "text": [
            "55\n"
          ]
        }
      ]
    },
    {
      "cell_type": "code",
      "source": [
        "total = i = 1\n",
        "n = int(input(\"請輸入正整數n的值:\"))\n",
        "while i<= n:\n",
        "  total *= i\n",
        "  i +=1\n",
        "print(\"%d!=%d\" %(n,total)) "
      ],
      "metadata": {
        "colab": {
          "base_uri": "https://localhost:8080/"
        },
        "id": "oAlieXYtK0Nd",
        "outputId": "d124386e-618c-497c-daa1-8030d26c937a"
      },
      "execution_count": 29,
      "outputs": [
        {
          "output_type": "stream",
          "name": "stdout",
          "text": [
            "請輸入正整數n的值:5\n",
            "5!=120\n"
          ]
        }
      ]
    },
    {
      "cell_type": "code",
      "source": [
        "total1 = total2 = n = 0\n",
        "m = 1\n",
        "while n<=50 and m<=50:\n",
        "  total1 += n\n",
        "  n+=2\n",
        "  total2 += m\n",
        "  m+=2\n",
        "print(\"0～50的偶數和結果是\",total1)\n",
        "print(\"0～50的奇數和結果是\",total2)"
      ],
      "metadata": {
        "colab": {
          "base_uri": "https://localhost:8080/"
        },
        "id": "o_sTAXsVK0Qj",
        "outputId": "14cb6a35-2bb5-4cf8-a96f-b90ff2de30bd"
      },
      "execution_count": 113,
      "outputs": [
        {
          "output_type": "stream",
          "name": "stdout",
          "text": [
            "0～50的偶數和結果是 600\n",
            "0～50的奇數和結果是 625\n"
          ]
        }
      ]
    },
    {
      "cell_type": "code",
      "source": [
        "n = int(input(\"請輸入正整數:\"))\n",
        "while i<=n:\n",
        "  print(i*\"＊\")\n",
        "  i-=1"
      ],
      "metadata": {
        "colab": {
          "base_uri": "https://localhost:8080/"
        },
        "id": "gikoqvZzK0Tc",
        "outputId": "76bcca02-5475-4027-810d-a00788820502"
      },
      "execution_count": 62,
      "outputs": [
        {
          "name": "stdout",
          "output_type": "stream",
          "text": [
            "請輸入正整數:7\n"
          ]
        }
      ]
    },
    {
      "cell_type": "code",
      "source": [
        "n = int(input(\"請輸入正整數:\"))\n",
        "for i in range(n,0,-1):\n",
        "  print(i*\"＊\")"
      ],
      "metadata": {
        "colab": {
          "base_uri": "https://localhost:8080/"
        },
        "id": "2yoK2pNrS4dr",
        "outputId": "563b056b-21a2-4952-898d-5a491aa0f48d"
      },
      "execution_count": 71,
      "outputs": [
        {
          "output_type": "stream",
          "name": "stdout",
          "text": [
            "請輸入正整數:7\n",
            "＊＊＊＊＊＊＊\n",
            "＊＊＊＊＊＊\n",
            "＊＊＊＊＊\n",
            "＊＊＊＊\n",
            "＊＊＊\n",
            "＊＊\n",
            "＊\n"
          ]
        }
      ]
    },
    {
      "cell_type": "code",
      "source": [
        "sum = 0\n",
        "for n in range(1,101):\n",
        "  if n%3==0 or n%7==0:\n",
        "    sum=sum+n\n",
        "print(\"數值1～100中，所有是3或7倍數的數總和=\",sum)"
      ],
      "metadata": {
        "colab": {
          "base_uri": "https://localhost:8080/"
        },
        "id": "Zbu0YLhVS4gR",
        "outputId": "3b452d2e-b7e7-4c22-a957-636893e1af94"
      },
      "execution_count": 93,
      "outputs": [
        {
          "output_type": "stream",
          "name": "stdout",
          "text": [
            "數值1～100中，所有是3或7倍數的數總和= 2208\n"
          ]
        }
      ]
    },
    {
      "cell_type": "code",
      "source": [
        "n = int(input(\"請輸入正整數:\"))\n",
        "\n",
        "for i in range(1,n+1):\n",
        "  if n%i == 0:\n",
        "    print(n,\"的因數有\",i)\n",
        "\n",
        "\n",
        "for i in range(2,n):\n",
        "  if (n%i == 0):\n",
        "    print(n,\"不是質數\")\n",
        "    break\n",
        "  else:\n",
        "    print(n,\"是質數\")\n",
        "    break"
      ],
      "metadata": {
        "colab": {
          "base_uri": "https://localhost:8080/"
        },
        "id": "NeyY29kgS4jK",
        "outputId": "c0b8fa5d-9182-4cf6-e904-a9545f64333f"
      },
      "execution_count": 144,
      "outputs": [
        {
          "output_type": "stream",
          "name": "stdout",
          "text": [
            "請輸入正整數:11\n",
            "11 的因數有 1\n",
            "11 的因數有 11\n",
            "11 是質數\n"
          ]
        }
      ]
    }
  ]
}